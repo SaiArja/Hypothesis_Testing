{
 "cells": [
  {
   "cell_type": "markdown",
   "id": "66f42188",
   "metadata": {},
   "source": [
    "# T Test"
   ]
  },
  {
   "cell_type": "markdown",
   "id": "2394f2ec",
   "metadata": {},
   "source": [
    "One sample T-test:-\n",
    "\n",
    "The One Sample T Test determines whether the sample mean is statistically different from a known population mean."
   ]
  },
  {
   "cell_type": "code",
   "execution_count": 6,
   "id": "089710a7",
   "metadata": {},
   "outputs": [
    {
     "name": "stdout",
     "output_type": "stream",
     "text": [
      "33.05\n",
      "0.0004001394092999349\n",
      "we are rejecting null hypothesis i.e,average age is not 50\n"
     ]
    }
   ],
   "source": [
    "ages=[10,20,35,50,28,40,55,18,16,55,30,25,65,18,43,23,21,20,19,70]\n",
    "from scipy.stats import ttest_1samp\n",
    "import numpy as np\n",
    "ages_mean = np.mean(ages)\n",
    "print(ages_mean)\n",
    "tset, pval = ttest_1samp(ages, 50)\n",
    "print(pval)\n",
    "if pval < 0.05:    # alpha value is 0.05 or 5%\n",
    "    print(\"we are rejecting null hypothesis i.e,average age is not 50\")\n",
    "else:\n",
    "    print(\"we are accepting null hypothesis i.e,average age is 50\")"
   ]
  },
  {
   "cell_type": "markdown",
   "id": "2cfe5c65",
   "metadata": {},
   "source": [
    "Two sampled T-test"
   ]
  },
  {
   "cell_type": "markdown",
   "id": "c46d4b7b",
   "metadata": {},
   "source": [
    "The Independent Samples T Test or 2-sample t-test compares the means of two independent groups in order to determine whether there is statistical evidence that the associated population means are significantly different or same."
   ]
  },
  {
   "cell_type": "code",
   "execution_count": 10,
   "id": "dc00609c",
   "metadata": {},
   "outputs": [
    {
     "name": "stdout",
     "output_type": "stream",
     "text": [
      "P Value is : 0.7484698873615687\n",
      "same distribution\n"
     ]
    }
   ],
   "source": [
    "from scipy.stats import ttest_ind\n",
    "data1 = [0.873, 2.817, 0.121, -0.945, -0.055, -1.436, 0.360, -1.478, -1.637, -1.869]\n",
    "data2 = [1.142, -0.432, -0.938, -0.729, -0.846, -0.157, 0.500, 1.183, -1.075, -0.169]\n",
    "stat, p = ttest_ind(data1, data2)\n",
    "\n",
    "print('P Value is :',p)\n",
    "if p > 0.05:\n",
    "    print('same distribution')\n",
    "else:\n",
    "    print('different distributions')"
   ]
  },
  {
   "cell_type": "markdown",
   "id": "39ea450c",
   "metadata": {},
   "source": [
    "Paired sampled t-test :\n",
    "\n",
    "The paired sample t-test is also called dependent sample t-test. It’s an  univariate test that tests for a significant difference between 2 related variables."
   ]
  },
  {
   "cell_type": "code",
   "execution_count": 11,
   "id": "923ae164",
   "metadata": {},
   "outputs": [
    {
     "name": "stdout",
     "output_type": "stream",
     "text": [
      "samples are not equal\n"
     ]
    }
   ],
   "source": [
    "from scipy import stats\n",
    "from scipy.stats import ttest_rel\n",
    "data1=[10,20,35,50,28,40,55,18,16,55,30,25,65,18,43,23,21,20,19,70]\n",
    "data2=[55,15,58,55,78,88,78,22,1,65,36,88,45,32,100,45,79,77,62,21]\n",
    "stat, p = ttest_rel(data1, data2)\n",
    "if p > 0.05:\n",
    "    print('samples are equal')\n",
    "else:\n",
    "    print('samples are not equal')"
   ]
  },
  {
   "cell_type": "markdown",
   "id": "3414da1f",
   "metadata": {},
   "source": [
    "ANOVA:\n",
    "\n",
    "Tests whether the means of two or more independent samples are significantly different.\n",
    "\n",
    "Assumptions:-\n",
    "    1.Observations in each sample are independent and identically distributed (iid\n",
    "    2.Observations in each sample are normally distributed.\n",
    "    3.Observations in each sample have the same variance."
   ]
  },
  {
   "cell_type": "code",
   "execution_count": 13,
   "id": "7f572e73",
   "metadata": {},
   "outputs": [
    {
     "name": "stdout",
     "output_type": "stream",
     "text": [
      "P value: 0.9083957433926546\n",
      "same distribution\n"
     ]
    }
   ],
   "source": [
    "from scipy.stats import f_oneway\n",
    "data1 = [0.873, 2.817, 0.121, -0.945, -0.055, -1.436, 0.360, -1.478, -1.637, -1.869]\n",
    "data2 = [1.142, -0.432, -0.938, -0.729, -0.846, -0.157, 0.500, 1.183, -1.075, -0.169]\n",
    "data3 = [-0.208, 0.696, 0.928, -1.148, -0.213, 0.229, 0.137, 0.269, -0.870, -1.204]\n",
    "stat, p = f_oneway(data1, data2, data3)\n",
    "print('P value:',p)\n",
    "if p > 0.05:# if we want to right in the sence of the null hypothesis, we will reject null hypotheis if the p<0.05\n",
    "    print('same distribution')\n",
    "else:\n",
    "    print('different distributions')"
   ]
  },
  {
   "cell_type": "markdown",
   "id": "25cd05bf",
   "metadata": {},
   "source": [
    "Chi-Squared Test:\n",
    "\n",
    "Tests whether two categorical variables are related or independent.\n",
    "\n",
    "Assumptions:- \n",
    "\n",
    "1.Observations used in the calculation of the contingency table are independent. \n",
    "\n",
    "2.25 or more examples in each cell of the contingency table. "
   ]
  },
  {
   "cell_type": "code",
   "execution_count": 14,
   "id": "b0b731e2",
   "metadata": {},
   "outputs": [
    {
     "name": "stdout",
     "output_type": "stream",
     "text": [
      "P value: 0.873028283380073\n",
      "independent\n"
     ]
    }
   ],
   "source": [
    "# Example of the Chi-Squared Test\n",
    "from scipy.stats import chi2_contingency\n",
    "table = [[10, 20, 30],[6,  9,  17]]\n",
    "stat, p, dof, expected = chi2_contingency(table)\n",
    "print('P value:', p)\n",
    "if p > 0.05:\n",
    "    print('independent')\n",
    "else:\n",
    "    print('dependent')"
   ]
  },
  {
   "cell_type": "markdown",
   "id": "12120028",
   "metadata": {},
   "source": [
    "Z test\n",
    "\n",
    "In one sample z-test ,we are checking one  data group and deciding whether sample mean is equal to population mean or not."
   ]
  },
  {
   "cell_type": "code",
   "execution_count": 15,
   "id": "3f977792",
   "metadata": {},
   "outputs": [
    {
     "name": "stdout",
     "output_type": "stream",
     "text": [
      "0.032546442541153964\n",
      "mean is not 152\n"
     ]
    }
   ],
   "source": [
    "import pandas as pd\n",
    "from scipy import stats\n",
    "df=pd.read_csv('https://raw.githubusercontent.com/jeevanhe/Data-Science-Statistical-Methods/master/systolic%20blood%20pressure.csv')\n",
    "from statsmodels.stats import weightstats as stests\n",
    "ztest ,pval = stests.ztest(df['armsys'], value=125)\n",
    "print(pval)\n",
    "if pval<0.05:\n",
    "    print(\"mean is not 152\")\n",
    "else:\n",
    "    print(\"mean is 152\")"
   ]
  },
  {
   "cell_type": "markdown",
   "id": "a42d6375",
   "metadata": {},
   "source": [
    "Two-sample Z test:\n",
    "\n",
    "In two sample z-test ,we are checking two independent data groups and deciding whether sample mean of two group is equal or not."
   ]
  },
  {
   "cell_type": "code",
   "execution_count": 17,
   "id": "9c37d37b",
   "metadata": {},
   "outputs": [
    {
     "name": "stdout",
     "output_type": "stream",
     "text": [
      "0.07954652069053099\n",
      "mean of 2 samples is 0\n"
     ]
    }
   ],
   "source": [
    "ztest ,pval = stests.ztest(df['armsys'], x2=df['fingsys'], value=0,alternative='two-sided')\n",
    "print(pval)\n",
    "if pval<0.05:\n",
    "    print(\"mean of 2 samples is not 0\")\n",
    "else:\n",
    "    print(\"mean of 2 samples is 0\")"
   ]
  },
  {
   "cell_type": "code",
   "execution_count": null,
   "id": "12984c8e",
   "metadata": {},
   "outputs": [],
   "source": []
  }
 ],
 "metadata": {
  "kernelspec": {
   "display_name": "Python [conda env:root] *",
   "language": "python",
   "name": "conda-root-py"
  },
  "language_info": {
   "codemirror_mode": {
    "name": "ipython",
    "version": 3
   },
   "file_extension": ".py",
   "mimetype": "text/x-python",
   "name": "python",
   "nbconvert_exporter": "python",
   "pygments_lexer": "ipython3",
   "version": "3.8.5"
  }
 },
 "nbformat": 4,
 "nbformat_minor": 5
}
